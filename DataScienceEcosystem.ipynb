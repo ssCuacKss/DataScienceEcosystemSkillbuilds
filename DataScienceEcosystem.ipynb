{
 "cells": [
  {
   "cell_type": "markdown",
   "id": "77aae1ef-64d4-4b6d-8f96-4b8c2d446c24",
   "metadata": {},
   "source": [
    "# Data Science Tolls and Ecosystems"
   ]
  },
  {
   "cell_type": "markdown",
   "id": "b33ac8ab-4db5-43c2-ab4e-1821aa86b435",
   "metadata": {},
   "source": [
    "## Author\n",
    "\n",
    "Pablo Roldán Puebla"
   ]
  },
  {
   "cell_type": "markdown",
   "id": "275a3d3e-5814-44c7-be48-a1e80dc01ffb",
   "metadata": {},
   "source": [
    "In this notebook, Data Science Tools and Ecosystem are summarized"
   ]
  },
  {
   "cell_type": "markdown",
   "id": "e80be8bf-c3f2-47cb-ad39-e5cbccdd0f90",
   "metadata": {},
   "source": [
    "Some of the popular languages that Data Scientists use are:\n",
    "1. python\n",
    "2. R\n",
    "3. SQL"
   ]
  },
  {
   "cell_type": "markdown",
   "id": "6a6d99c5-3546-480e-b2b4-0e7c155f324a",
   "metadata": {},
   "source": [
    "Some of the commonly used libraries used by Data Scientists include:\n",
    "1. pyTorch\n",
    "2. Sci-kit learn\n",
    "3. pandas"
   ]
  },
  {
   "cell_type": "markdown",
   "id": "c7319b70-57f7-4572-9efa-8062bba8e6ac",
   "metadata": {},
   "source": [
    "| Data Science Tools |\n",
    "|-|\n",
    "|Visual Studio Code|\n",
    "|R Commander|\n",
    "|Jupyter lab|"
   ]
  },
  {
   "cell_type": "markdown",
   "id": "84392d8a-314c-40f4-936b-c61031388475",
   "metadata": {},
   "source": [
    "**Objectives:**\n",
    "- Learn to use Jupyter notebooks\n",
    "- Learn about the architecture of jupyter notebooks\n",
    "- Start using Python as a data science tool\n",
    "- Use markdown to write clear steps\n",
    "- Share your advances and collaborate further"
   ]
  },
  {
   "cell_type": "markdown",
   "id": "39b18791-eabc-47dc-a8f6-77619b89aaa4",
   "metadata": {},
   "source": [
    "### Below are a few examples of evaluating arithmetic expressions in Python"
   ]
  },
  {
   "cell_type": "code",
   "execution_count": 6,
   "id": "a6292d0c-639a-4fe7-abc4-96fdf6479f6a",
   "metadata": {},
   "outputs": [
    {
     "data": {
      "text/plain": [
       "17"
      ]
     },
     "execution_count": 6,
     "metadata": {},
     "output_type": "execute_result"
    }
   ],
   "source": [
    "# This is a simple arithmetic expression to multiply and add integers\n",
    "\n",
    "(3*4)+5"
   ]
  },
  {
   "cell_type": "code",
   "execution_count": 9,
   "id": "7d51af19-a859-40a7-aed1-6539074525c9",
   "metadata": {},
   "outputs": [
    {
     "data": {
      "text/plain": [
       "3.3333333333333335"
      ]
     },
     "execution_count": 9,
     "metadata": {},
     "output_type": "execute_result"
    }
   ],
   "source": [
    "# This code will convert 200 minutes into hours\n",
    "\n",
    "200/60"
   ]
  }
 ],
 "metadata": {
  "kernelspec": {
   "display_name": "Python 3 (ipykernel)",
   "language": "python",
   "name": "python3"
  },
  "language_info": {
   "codemirror_mode": {
    "name": "ipython",
    "version": 3
   },
   "file_extension": ".py",
   "mimetype": "text/x-python",
   "name": "python",
   "nbconvert_exporter": "python",
   "pygments_lexer": "ipython3",
   "version": "3.12.8"
  }
 },
 "nbformat": 4,
 "nbformat_minor": 5
}
